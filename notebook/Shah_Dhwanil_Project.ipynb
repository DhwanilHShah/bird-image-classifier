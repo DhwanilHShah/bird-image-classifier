{
 "cells": [
  {
   "cell_type": "markdown",
   "id": "7b3efa0b",
   "metadata": {
    "id": "7b3efa0b"
   },
   "source": [
    "# DSCI 552 Project - Dhwanil Shah, 1889110444, DhwanilHShah"
   ]
  },
  {
   "cell_type": "code",
   "execution_count": 1,
   "id": "f50d8c13",
   "metadata": {},
   "outputs": [],
   "source": [
    "import pandas as pd\n",
    "import os\n",
    "import random\n",
    "import math\n",
    "import shutil\n",
    "from tensorflow.keras.applications.efficientnet import EfficientNetB0\n",
    "from tensorflow.keras.applications.vgg16 import VGG16\n",
    "from tensorflow.keras.preprocessing.image import ImageDataGenerator\n",
    "from tensorflow.keras import models, layers, activations, optimizers\n",
    "from tensorflow.keras.callbacks import EarlyStopping\n",
    "from tensorflow.keras.layers import BatchNormalization\n",
    "import matplotlib.pyplot as plt\n",
    "from sklearn.metrics import accuracy_score, f1_score, precision_score, recall_score\n",
    "import numpy as np\n",
    "%matplotlib inline"
   ]
  },
  {
   "cell_type": "markdown",
   "id": "9dd51fc8",
   "metadata": {
    "id": "9dd51fc8"
   },
   "source": [
    "## Data Preprocessing"
   ]
  },
  {
   "cell_type": "markdown",
   "id": "YRRj6xhMO41P",
   "metadata": {
    "id": "YRRj6xhMO41P"
   },
   "source": [
    "### Species to Class Mapping"
   ]
  },
  {
   "cell_type": "code",
   "execution_count": 2,
   "id": "3347f19a",
   "metadata": {
    "id": "3347f19a"
   },
   "outputs": [],
   "source": [
    "df = pd.read_excel(\"../data/Classes.xlsx\", names=['Folder', 'Class'])\n",
    "name_to_class_dict = dict(zip(df.Folder, df.Class))\n",
    "class_to_name_dict = dict(zip(df.Class, df.Folder))"
   ]
  },
  {
   "cell_type": "markdown",
   "id": "765rrbwsI-gN",
   "metadata": {
    "id": "765rrbwsI-gN"
   },
   "source": [
    "### Split Train, Validation, Test Data"
   ]
  },
  {
   "cell_type": "code",
   "execution_count": 3,
   "id": "LDJetesPlDY0",
   "metadata": {
    "id": "LDJetesPlDY0"
   },
   "outputs": [],
   "source": [
    "original_dir = \"../data/images\"\n",
    "base_dir = \"../data/images_split\"\n",
    "\n",
    "train_dir = os.path.join(base_dir, 'train')\n",
    "os.makedirs(train_dir, exist_ok=True)\n",
    "validation_dir = os.path.join(base_dir, 'validation')\n",
    "os.makedirs(validation_dir, exist_ok=True)\n",
    "test_dir = os.path.join(base_dir, 'test')\n",
    "os.makedirs(test_dir, exist_ok=True)"
   ]
  },
  {
   "cell_type": "code",
   "execution_count": 4,
   "id": "8a1cf3e0",
   "metadata": {
    "id": "8a1cf3e0"
   },
   "outputs": [],
   "source": [
    "for species_class in df['Folder']:\n",
    "  train_class_dir = os.path.join(train_dir, species_class)\n",
    "  os.makedirs(train_class_dir, exist_ok=True)\n",
    "\n",
    "  validation_class_dir = os.path.join(validation_dir, species_class)\n",
    "  os.makedirs(validation_class_dir, exist_ok=True)\n",
    "    \n",
    "  test_class_dir = os.path.join(test_dir, species_class)\n",
    "  os.makedirs(test_class_dir, exist_ok=True)\n",
    "    \n",
    "  original_class_dir = os.path.join(original_dir, species_class)\n",
    "  \n",
    "  images = os.listdir(original_class_dir)\n",
    "  n_images = len(images)\n",
    "\n",
    "  for image in random.sample(images, math.ceil(0.7*n_images)):\n",
    "    shutil.copyfile(os.path.join(original_class_dir, image), \n",
    "                    os.path.join(train_class_dir, image))\n",
    "    images.remove(image)\n",
    "\n",
    "  for image in random.sample(images, math.ceil(0.15*n_images)):\n",
    "    shutil.copyfile(os.path.join(original_class_dir, image), \n",
    "                    os.path.join(validation_class_dir, image))\n",
    "    images.remove(image)\n",
    "\n",
    "  for image in images:\n",
    "    shutil.copyfile(os.path.join(original_class_dir, image), \n",
    "                    os.path.join(test_class_dir, image))"
   ]
  },
  {
   "cell_type": "markdown",
   "id": "JytEna0WInZa",
   "metadata": {
    "id": "JytEna0WInZa"
   },
   "source": [
    "### Hyper Parameters"
   ]
  },
  {
   "cell_type": "code",
   "execution_count": 5,
   "id": "kWz3JkPRB8na",
   "metadata": {
    "id": "kWz3JkPRB8na"
   },
   "outputs": [],
   "source": [
    "n_classes=20\n",
    "batch_size = 10\n",
    "width = 224\n",
    "height = 224\n",
    "epochs = 50\n",
    "NUM_TRAIN = sum([len(files) for r, d, files in os.walk(train_dir)])\n",
    "NUM_TEST = sum([len(files) for r, d, files in os.walk(validation_dir)])\n",
    "dropout_rate = 0.2\n",
    "input_shape = (height, width, 3)"
   ]
  },
  {
   "cell_type": "markdown",
   "id": "48AxLCWAPcft",
   "metadata": {
    "id": "48AxLCWAPcft"
   },
   "source": [
    "### Data Augmentation"
   ]
  },
  {
   "cell_type": "code",
   "execution_count": 6,
   "id": "tUDRMuKLNjLs",
   "metadata": {
    "colab": {
     "base_uri": "https://localhost:8080/"
    },
    "id": "tUDRMuKLNjLs",
    "outputId": "102068f8-f7d2-49b6-f842-bf340b658447"
   },
   "outputs": [
    {
     "name": "stdout",
     "output_type": "stream",
     "text": [
      "Found 1173 images belonging to 20 classes.\n",
      "Found 658 images belonging to 20 classes.\n",
      "Found 624 images belonging to 20 classes.\n"
     ]
    }
   ],
   "source": [
    "train_datagen = ImageDataGenerator(\n",
    "      # rescale=1./255,\n",
    "      rotation_range=40,\n",
    "      # width_shift_range=0.2,\n",
    "      # height_shift_range=0.2,\n",
    "      # shear_range=0.2,\n",
    "      zoom_range=0.2,\n",
    "      horizontal_flip=True\n",
    "      # fill_mode='nearest'\n",
    "      )\n",
    "\n",
    "\n",
    "test_datagen = ImageDataGenerator()\n",
    "\n",
    "train_generator = train_datagen.flow_from_directory(\n",
    "        train_dir,\n",
    "        target_size=(height, width),\n",
    "        batch_size=batch_size,\n",
    "        # Since we use categorical_crossentropy loss, we need categorical labels\n",
    "        class_mode='categorical')\n",
    "\n",
    "validation_generator = test_datagen.flow_from_directory(\n",
    "        validation_dir,\n",
    "        target_size=(height, width),\n",
    "        batch_size=batch_size,\n",
    "        class_mode='categorical')\n",
    "\n",
    "test_generator = test_datagen.flow_from_directory(\n",
    "        test_dir,\n",
    "        target_size=(height, width),\n",
    "        batch_size=batch_size,\n",
    "        class_mode='categorical')"
   ]
  },
  {
   "cell_type": "markdown",
   "id": "nVCvwidKPPAB",
   "metadata": {
    "id": "nVCvwidKPPAB"
   },
   "source": [
    "## Transfer Learning : EfficientNetB0"
   ]
  },
  {
   "cell_type": "markdown",
   "id": "gKyz0Q4jIw-k",
   "metadata": {
    "id": "gKyz0Q4jIw-k"
   },
   "source": [
    "### Model"
   ]
  },
  {
   "cell_type": "code",
   "execution_count": 7,
   "id": "kR5OnpviCVM5",
   "metadata": {
    "id": "kR5OnpviCVM5"
   },
   "outputs": [
    {
     "name": "stderr",
     "output_type": "stream",
     "text": [
      "2022-12-11 16:16:09.546338: I tensorflow/core/platform/cpu_feature_guard.cc:193] This TensorFlow binary is optimized with oneAPI Deep Neural Network Library (oneDNN) to use the following CPU instructions in performance-critical operations:  SSE4.1 SSE4.2\n",
      "To enable them in other operations, rebuild TensorFlow with the appropriate compiler flags.\n"
     ]
    }
   ],
   "source": [
    "base_model = EfficientNetB0(weights='imagenet', include_top=False, \n",
    "                            input_shape=input_shape, classes=n_classes)\n",
    "base_model.trainable = False"
   ]
  },
  {
   "cell_type": "code",
   "execution_count": 8,
   "id": "B1DK5C9RPueA",
   "metadata": {
    "colab": {
     "base_uri": "https://localhost:8080/"
    },
    "id": "B1DK5C9RPueA",
    "outputId": "9929f01d-a258-4a2f-dd20-58ce706d7d96"
   },
   "outputs": [
    {
     "name": "stdout",
     "output_type": "stream",
     "text": [
      "Model: \"sequential\"\n",
      "_________________________________________________________________\n",
      " Layer (type)                Output Shape              Param #   \n",
      "=================================================================\n",
      " efficientnetb0 (Functional)  (None, 7, 7, 1280)       4049571   \n",
      "                                                                 \n",
      " Batch_Normalization (BatchN  (None, 7, 7, 1280)       5120      \n",
      " ormalization)                                                   \n",
      "                                                                 \n",
      " relu_layer (Activation)     (None, 7, 7, 1280)        0         \n",
      "                                                                 \n",
      " GlobalMaxPooling (GlobalMax  (None, 1280)             0         \n",
      " Pooling2D)                                                      \n",
      "                                                                 \n",
      " dropout (Dropout)           (None, 1280)              0         \n",
      "                                                                 \n",
      " softmax_output (Dense)      (None, 20)                25620     \n",
      "                                                                 \n",
      "=================================================================\n",
      "Total params: 4,080,311\n",
      "Trainable params: 28,180\n",
      "Non-trainable params: 4,052,131\n",
      "_________________________________________________________________\n"
     ]
    }
   ],
   "source": [
    "model = models.Sequential()\n",
    "model.add(base_model)\n",
    "model.add(BatchNormalization(name=\"Batch_Normalization\"))\n",
    "model.add(layers.Activation(activations.relu, name=\"relu_layer\"))\n",
    "model.add(layers.GlobalMaxPooling2D(name=\"GlobalMaxPooling\"))\n",
    "if dropout_rate > 0:\n",
    "    model.add(layers.Dropout(dropout_rate))\n",
    "# model.add(BatchNormalization(momentum=0.95, epsilon=0.005))\n",
    "model.add(layers.Dense(n_classes, activation='softmax', name=\"softmax_output\"))\n",
    "\n",
    "model.summary()"
   ]
  },
  {
   "cell_type": "code",
   "execution_count": 9,
   "id": "1q0bu8h6QJMI",
   "metadata": {
    "colab": {
     "base_uri": "https://localhost:8080/"
    },
    "id": "1q0bu8h6QJMI",
    "outputId": "eeef660f-eb96-4bed-d132-770e502736f2"
   },
   "outputs": [
    {
     "name": "stdout",
     "output_type": "stream",
     "text": [
      "Epoch 1/50\n",
      "117/117 [==============================] - 28s 212ms/step - loss: 6.0483 - accuracy: 0.3207 - val_loss: 1.1670 - val_accuracy: 0.7631\n",
      "Epoch 2/50\n",
      "117/117 [==============================] - 24s 204ms/step - loss: 2.2326 - accuracy: 0.6724 - val_loss: 0.6891 - val_accuracy: 0.8677\n",
      "Epoch 3/50\n",
      "117/117 [==============================] - 24s 205ms/step - loss: 1.7006 - accuracy: 0.7300 - val_loss: 0.5133 - val_accuracy: 0.9154\n",
      "Epoch 4/50\n",
      "117/117 [==============================] - 24s 204ms/step - loss: 1.2971 - accuracy: 0.7859 - val_loss: 0.4435 - val_accuracy: 0.9215\n",
      "Epoch 5/50\n",
      "117/117 [==============================] - 24s 205ms/step - loss: 1.4036 - accuracy: 0.7893 - val_loss: 0.2540 - val_accuracy: 0.9615\n",
      "Epoch 6/50\n",
      "117/117 [==============================] - 24s 205ms/step - loss: 1.1763 - accuracy: 0.8100 - val_loss: 0.2145 - val_accuracy: 0.9646\n",
      "Epoch 7/50\n",
      "117/117 [==============================] - 24s 207ms/step - loss: 1.1550 - accuracy: 0.8194 - val_loss: 0.2820 - val_accuracy: 0.9600\n",
      "Epoch 8/50\n",
      "117/117 [==============================] - 24s 207ms/step - loss: 1.1228 - accuracy: 0.8280 - val_loss: 0.1632 - val_accuracy: 0.9708\n",
      "Epoch 9/50\n",
      "117/117 [==============================] - 24s 205ms/step - loss: 0.9909 - accuracy: 0.8547 - val_loss: 0.1649 - val_accuracy: 0.9646\n",
      "Epoch 10/50\n",
      "117/117 [==============================] - 24s 205ms/step - loss: 0.8301 - accuracy: 0.8659 - val_loss: 0.1692 - val_accuracy: 0.9800\n",
      "Epoch 11/50\n",
      "117/117 [==============================] - 24s 205ms/step - loss: 0.8801 - accuracy: 0.8581 - val_loss: 0.2336 - val_accuracy: 0.9569\n",
      "Epoch 12/50\n",
      "117/117 [==============================] - 24s 205ms/step - loss: 0.9478 - accuracy: 0.8564 - val_loss: 0.2104 - val_accuracy: 0.9662\n",
      "Epoch 13/50\n",
      "117/117 [==============================] - 24s 204ms/step - loss: 0.6891 - accuracy: 0.8934 - val_loss: 0.1433 - val_accuracy: 0.9769\n",
      "Epoch 14/50\n",
      "117/117 [==============================] - 24s 205ms/step - loss: 0.8028 - accuracy: 0.8719 - val_loss: 0.1472 - val_accuracy: 0.9800\n",
      "Epoch 15/50\n",
      "117/117 [==============================] - 24s 205ms/step - loss: 0.7369 - accuracy: 0.8865 - val_loss: 0.1350 - val_accuracy: 0.9815\n",
      "Epoch 16/50\n",
      "117/117 [==============================] - 24s 206ms/step - loss: 0.5819 - accuracy: 0.9046 - val_loss: 0.1984 - val_accuracy: 0.9708\n",
      "Epoch 17/50\n",
      "117/117 [==============================] - 25s 209ms/step - loss: 0.5254 - accuracy: 0.9037 - val_loss: 0.1255 - val_accuracy: 0.9877\n",
      "Epoch 18/50\n",
      "117/117 [==============================] - 24s 207ms/step - loss: 0.6171 - accuracy: 0.8968 - val_loss: 0.1643 - val_accuracy: 0.9846\n",
      "Epoch 19/50\n",
      "117/117 [==============================] - 24s 205ms/step - loss: 0.5632 - accuracy: 0.9037 - val_loss: 0.1161 - val_accuracy: 0.9877\n",
      "Epoch 20/50\n",
      "117/117 [==============================] - 24s 205ms/step - loss: 0.7142 - accuracy: 0.8977 - val_loss: 0.0846 - val_accuracy: 0.9815\n",
      "Epoch 21/50\n",
      "117/117 [==============================] - 24s 206ms/step - loss: 0.5668 - accuracy: 0.9028 - val_loss: 0.2090 - val_accuracy: 0.9815\n",
      "Epoch 22/50\n",
      "117/117 [==============================] - 24s 205ms/step - loss: 0.6560 - accuracy: 0.9071 - val_loss: 0.1169 - val_accuracy: 0.9846\n",
      "Epoch 23/50\n",
      "117/117 [==============================] - 24s 204ms/step - loss: 0.5362 - accuracy: 0.9089 - val_loss: 0.0795 - val_accuracy: 0.9769\n",
      "Epoch 24/50\n",
      "117/117 [==============================] - 24s 205ms/step - loss: 0.7202 - accuracy: 0.8977 - val_loss: 0.2269 - val_accuracy: 0.9723\n",
      "Epoch 25/50\n",
      "117/117 [==============================] - 24s 205ms/step - loss: 0.6836 - accuracy: 0.8934 - val_loss: 0.1125 - val_accuracy: 0.9738\n",
      "Epoch 26/50\n",
      "117/117 [==============================] - 24s 205ms/step - loss: 0.5966 - accuracy: 0.9243 - val_loss: 0.1614 - val_accuracy: 0.9846\n",
      "Epoch 27/50\n",
      "117/117 [==============================] - 24s 205ms/step - loss: 0.8558 - accuracy: 0.8934 - val_loss: 0.1091 - val_accuracy: 0.9846\n",
      "Epoch 28/50\n",
      "117/117 [==============================] - 24s 206ms/step - loss: 0.4861 - accuracy: 0.9166 - val_loss: 0.1000 - val_accuracy: 0.9877\n",
      "Epoch 29/50\n",
      "117/117 [==============================] - 24s 205ms/step - loss: 0.4802 - accuracy: 0.9226 - val_loss: 0.0841 - val_accuracy: 0.9846\n",
      "Epoch 30/50\n",
      "117/117 [==============================] - 24s 205ms/step - loss: 0.5465 - accuracy: 0.9123 - val_loss: 0.1144 - val_accuracy: 0.9877\n",
      "Epoch 31/50\n",
      "117/117 [==============================] - 24s 205ms/step - loss: 0.5834 - accuracy: 0.9123 - val_loss: 0.1158 - val_accuracy: 0.9815\n",
      "Epoch 32/50\n",
      "117/117 [==============================] - 24s 205ms/step - loss: 0.4116 - accuracy: 0.9295 - val_loss: 0.2383 - val_accuracy: 0.9677\n"
     ]
    }
   ],
   "source": [
    "early_stopping = EarlyStopping(monitor='val_loss', mode='min', patience=9)\n",
    "model.compile(loss='categorical_crossentropy',\n",
    "              optimizer=optimizers.Adam(learning_rate=0.001),\n",
    "              metrics=['accuracy'])\n",
    "history = model.fit(\n",
    "      train_generator,\n",
    "      steps_per_epoch= NUM_TRAIN //batch_size,\n",
    "      epochs=epochs,\n",
    "      validation_data=validation_generator,\n",
    "      validation_steps= NUM_TEST //batch_size,\n",
    "      verbose=1,\n",
    "      workers=4,\n",
    "      callbacks=[early_stopping])"
   ]
  },
  {
   "cell_type": "markdown",
   "id": "h0ZHwv1l5qVw",
   "metadata": {
    "id": "h0ZHwv1l5qVw"
   },
   "source": [
    "### Training and Validation Errors vs Epochs Plot"
   ]
  },
  {
   "cell_type": "code",
   "execution_count": 10,
   "id": "vYl-5FiuSQCz",
   "metadata": {
    "colab": {
     "base_uri": "https://localhost:8080/",
     "height": 281
    },
    "id": "vYl-5FiuSQCz",
    "outputId": "80072525-73ea-4e8a-ca76-becf5f0afb5f"
   },
   "outputs": [
    {
     "data": {
      "image/png": "[encoded data removed]",
      "text/plain": [
       "<Figure size 640x480 with 1 Axes>"
      ]
     },
     "metadata": {},
     "output_type": "display_data"
    }
   ],
   "source": [
    "acc = history.history['accuracy']\n",
    "val_acc = history.history['val_accuracy']\n",
    "loss = history.history['loss']\n",
    "val_loss = history.history['val_loss']\n",
    "\n",
    "epochs_x = range(len(acc))\n",
    "\n",
    "plt.plot(epochs_x, loss, 'r', label='Training loss')\n",
    "plt.plot(epochs_x, val_loss, 'b', label='Validation loss')\n",
    "plt.title('Training and validation loss')\n",
    "plt.legend()\n",
    "\n",
    "plt.show()"
   ]
  },
  {
   "cell_type": "markdown",
   "id": "6CYopPvUB2aq",
   "metadata": {
    "id": "6CYopPvUB2aq"
   },
   "source": [
    "### Prediction"
   ]
  },
  {
   "cell_type": "code",
   "execution_count": 11,
   "id": "mY55IV3L-xQR",
   "metadata": {
    "id": "mY55IV3L-xQR"
   },
   "outputs": [],
   "source": [
    "test_generator.batch_size = test_generator.samples\n",
    "y_true = np.argmax(next(test_generator)[1], axis=1)"
   ]
  },
  {
   "cell_type": "code",
   "execution_count": 12,
   "id": "pVLOW3_FB1vw",
   "metadata": {
    "colab": {
     "base_uri": "https://localhost:8080/"
    },
    "id": "pVLOW3_FB1vw",
    "outputId": "d805a90a-c723-4708-ab85-48ef203a57d0"
   },
   "outputs": [
    {
     "name": "stdout",
     "output_type": "stream",
     "text": [
      "1/1 [==============================] - 17s 17s/step\n"
     ]
    }
   ],
   "source": [
    "predictions = model.predict(test_generator)\n",
    "y_pred = np.argmax(predictions, axis=1)"
   ]
  },
  {
   "cell_type": "code",
   "execution_count": 13,
   "id": "-5Mwa48J77XG",
   "metadata": {
    "colab": {
     "base_uri": "https://localhost:8080/"
    },
    "id": "-5Mwa48J77XG",
    "outputId": "ac551825-737c-4a17-cff2-8d116d2ff7f5"
   },
   "outputs": [
    {
     "name": "stdout",
     "output_type": "stream",
     "text": [
      "Test Accuracy: 0.9711538461538461\n",
      "Precision: 0.9726278004834039\n",
      "Recall: 0.9708588791467644\n",
      "F1 score: 0.9701190374636027\n"
     ]
    }
   ],
   "source": [
    "print(\"Test Accuracy: {}\".format(accuracy_score(y_true, y_pred)))\n",
    "print(\"Precision: {}\".format(precision_score(y_true, y_pred, average=\"macro\")))\n",
    "print(\"Recall: {}\".format(recall_score(y_true, y_pred, average=\"macro\")))\n",
    "print(\"F1 score: {}\".format(f1_score(y_true, y_pred, average=\"macro\")))"
   ]
  },
  {
   "cell_type": "markdown",
   "id": "wXKYqh_zCNdj",
   "metadata": {
    "id": "wXKYqh_zCNdj"
   },
   "source": [
    "## Transfer Learning : VGG16"
   ]
  },
  {
   "cell_type": "markdown",
   "id": "-jzhi3EoDQBb",
   "metadata": {
    "id": "-jzhi3EoDQBb"
   },
   "source": [
    "### Model"
   ]
  },
  {
   "cell_type": "code",
   "execution_count": 14,
   "id": "gsZh2X98DQBb",
   "metadata": {
    "colab": {
     "base_uri": "https://localhost:8080/"
    },
    "id": "gsZh2X98DQBb",
    "outputId": "0feb1b16-5070-4874-862e-6a68a0c7bfd5"
   },
   "outputs": [],
   "source": [
    "base_model = VGG16(weights='imagenet', include_top=False, \n",
    "                            input_shape=input_shape, classes=n_classes)\n",
    "base_model.trainable = False"
   ]
  },
  {
   "cell_type": "code",
   "execution_count": 15,
   "id": "U_9Yu0fZDQBb",
   "metadata": {
    "colab": {
     "base_uri": "https://localhost:8080/"
    },
    "id": "U_9Yu0fZDQBb",
    "outputId": "3706d617-938f-4c43-b445-1979e644de2e"
   },
   "outputs": [
    {
     "name": "stdout",
     "output_type": "stream",
     "text": [
      "Model: \"sequential_1\"\n",
      "_________________________________________________________________\n",
      " Layer (type)                Output Shape              Param #   \n",
      "=================================================================\n",
      " vgg16 (Functional)          (None, 7, 7, 512)         14714688  \n",
      "                                                                 \n",
      " Batch_Normalization (BatchN  (None, 7, 7, 512)        2048      \n",
      " ormalization)                                                   \n",
      "                                                                 \n",
      " relu_layer (Activation)     (None, 7, 7, 512)         0         \n",
      "                                                                 \n",
      " GlobalMaxPooling (GlobalMax  (None, 512)              0         \n",
      " Pooling2D)                                                      \n",
      "                                                                 \n",
      " dropout_1 (Dropout)         (None, 512)               0         \n",
      "                                                                 \n",
      " softmax_output (Dense)      (None, 20)                10260     \n",
      "                                                                 \n",
      "=================================================================\n",
      "Total params: 14,726,996\n",
      "Trainable params: 11,284\n",
      "Non-trainable params: 14,715,712\n",
      "_________________________________________________________________\n"
     ]
    }
   ],
   "source": [
    "model = models.Sequential()\n",
    "model.add(base_model)\n",
    "model.add(BatchNormalization(name=\"Batch_Normalization\"))\n",
    "model.add(layers.Activation(activations.relu, name=\"relu_layer\"))\n",
    "model.add(layers.GlobalMaxPooling2D(name=\"GlobalMaxPooling\"))\n",
    "if dropout_rate > 0:\n",
    "    model.add(layers.Dropout(dropout_rate))\n",
    "# model.add(BatchNormalization(momentum=0.95, epsilon=0.005))\n",
    "model.add(layers.Dense(n_classes, activation='softmax', name=\"softmax_output\"))\n",
    "\n",
    "model.summary()"
   ]
  },
  {
   "cell_type": "code",
   "execution_count": 16,
   "id": "L5Kuhwl6DQBb",
   "metadata": {
    "colab": {
     "base_uri": "https://localhost:8080/"
    },
    "id": "L5Kuhwl6DQBb",
    "outputId": "9eb862db-bcb6-401c-dbab-6b11cb163885"
   },
   "outputs": [
    {
     "name": "stdout",
     "output_type": "stream",
     "text": [
      "Epoch 1/50\n",
      "117/117 [==============================] - 270s 2s/step - loss: 8.5893 - accuracy: 0.0903 - val_loss: 5.2638 - val_accuracy: 0.2677\n",
      "Epoch 2/50\n",
      "117/117 [==============================] - 267s 2s/step - loss: 5.5105 - accuracy: 0.2253 - val_loss: 2.6909 - val_accuracy: 0.4708\n",
      "Epoch 3/50\n",
      "117/117 [==============================] - 267s 2s/step - loss: 4.1203 - accuracy: 0.3405 - val_loss: 1.7618 - val_accuracy: 0.6015\n",
      "Epoch 4/50\n",
      "117/117 [==============================] - 267s 2s/step - loss: 3.4186 - accuracy: 0.4093 - val_loss: 1.2391 - val_accuracy: 0.6754\n",
      "Epoch 5/50\n",
      "117/117 [==============================] - 267s 2s/step - loss: 2.9427 - accuracy: 0.4609 - val_loss: 0.9507 - val_accuracy: 0.7354\n",
      "Epoch 6/50\n",
      "117/117 [==============================] - 267s 2s/step - loss: 2.5622 - accuracy: 0.5176 - val_loss: 0.8549 - val_accuracy: 0.7646\n",
      "Epoch 7/50\n",
      "117/117 [==============================] - 266s 2s/step - loss: 2.4831 - accuracy: 0.5271 - val_loss: 0.7130 - val_accuracy: 0.8031\n",
      "Epoch 8/50\n",
      "117/117 [==============================] - 267s 2s/step - loss: 2.2161 - accuracy: 0.5520 - val_loss: 0.6561 - val_accuracy: 0.8015\n",
      "Epoch 9/50\n",
      "117/117 [==============================] - 266s 2s/step - loss: 2.0607 - accuracy: 0.5847 - val_loss: 0.4872 - val_accuracy: 0.8492\n",
      "Epoch 10/50\n",
      "117/117 [==============================] - 267s 2s/step - loss: 1.9059 - accuracy: 0.5950 - val_loss: 0.6094 - val_accuracy: 0.8277\n",
      "Epoch 11/50\n",
      "117/117 [==============================] - 267s 2s/step - loss: 1.7330 - accuracy: 0.6045 - val_loss: 0.5450 - val_accuracy: 0.8369\n",
      "Epoch 12/50\n",
      "117/117 [==============================] - 267s 2s/step - loss: 1.6979 - accuracy: 0.6208 - val_loss: 0.5607 - val_accuracy: 0.8431\n",
      "Epoch 13/50\n",
      "117/117 [==============================] - 267s 2s/step - loss: 1.4663 - accuracy: 0.6629 - val_loss: 0.3497 - val_accuracy: 0.8892\n",
      "Epoch 14/50\n",
      "117/117 [==============================] - 267s 2s/step - loss: 1.4494 - accuracy: 0.6595 - val_loss: 0.3556 - val_accuracy: 0.8985\n",
      "Epoch 15/50\n",
      "117/117 [==============================] - 267s 2s/step - loss: 1.4440 - accuracy: 0.6862 - val_loss: 0.3137 - val_accuracy: 0.9108\n",
      "Epoch 16/50\n",
      "117/117 [==============================] - 471s 4s/step - loss: 1.4320 - accuracy: 0.6715 - val_loss: 0.3981 - val_accuracy: 0.8754\n",
      "Epoch 17/50\n",
      "117/117 [==============================] - 271s 2s/step - loss: 1.3943 - accuracy: 0.6793 - val_loss: 0.4299 - val_accuracy: 0.8800\n",
      "Epoch 18/50\n",
      "117/117 [==============================] - 273s 2s/step - loss: 1.2402 - accuracy: 0.7171 - val_loss: 0.3393 - val_accuracy: 0.9062\n",
      "Epoch 19/50\n",
      "117/117 [==============================] - 271s 2s/step - loss: 1.1902 - accuracy: 0.6948 - val_loss: 0.3834 - val_accuracy: 0.8831\n",
      "Epoch 20/50\n",
      "117/117 [==============================] - 274s 2s/step - loss: 1.2645 - accuracy: 0.6879 - val_loss: 0.3088 - val_accuracy: 0.9092\n",
      "Epoch 21/50\n",
      "117/117 [==============================] - 270s 2s/step - loss: 1.1820 - accuracy: 0.7197 - val_loss: 0.3200 - val_accuracy: 0.9215\n",
      "Epoch 22/50\n",
      "117/117 [==============================] - 268s 2s/step - loss: 1.2376 - accuracy: 0.6922 - val_loss: 0.2195 - val_accuracy: 0.9338\n",
      "Epoch 23/50\n",
      "117/117 [==============================] - 267s 2s/step - loss: 1.1936 - accuracy: 0.7094 - val_loss: 0.2506 - val_accuracy: 0.9138\n",
      "Epoch 24/50\n",
      "117/117 [==============================] - 266s 2s/step - loss: 1.2192 - accuracy: 0.7180 - val_loss: 0.2963 - val_accuracy: 0.9092\n",
      "Epoch 25/50\n",
      "117/117 [==============================] - 266s 2s/step - loss: 1.1699 - accuracy: 0.7016 - val_loss: 0.2306 - val_accuracy: 0.9231\n",
      "Epoch 26/50\n",
      "117/117 [==============================] - 267s 2s/step - loss: 1.0889 - accuracy: 0.7274 - val_loss: 0.2148 - val_accuracy: 0.9292\n",
      "Epoch 27/50\n",
      "117/117 [==============================] - 266s 2s/step - loss: 1.0044 - accuracy: 0.7515 - val_loss: 0.2311 - val_accuracy: 0.9292\n",
      "Epoch 28/50\n",
      "117/117 [==============================] - 266s 2s/step - loss: 1.0460 - accuracy: 0.7369 - val_loss: 0.1823 - val_accuracy: 0.9385\n",
      "Epoch 29/50\n",
      "117/117 [==============================] - 266s 2s/step - loss: 1.0524 - accuracy: 0.7283 - val_loss: 0.1896 - val_accuracy: 0.9462\n",
      "Epoch 30/50\n",
      "117/117 [==============================] - 267s 2s/step - loss: 1.1058 - accuracy: 0.7163 - val_loss: 0.1922 - val_accuracy: 0.9400\n",
      "Epoch 31/50\n",
      "117/117 [==============================] - 266s 2s/step - loss: 1.0300 - accuracy: 0.7420 - val_loss: 0.1960 - val_accuracy: 0.9338\n",
      "Epoch 32/50\n",
      "117/117 [==============================] - 267s 2s/step - loss: 1.1595 - accuracy: 0.7171 - val_loss: 0.2260 - val_accuracy: 0.9185\n",
      "Epoch 33/50\n",
      "117/117 [==============================] - 267s 2s/step - loss: 1.0798 - accuracy: 0.7412 - val_loss: 0.1873 - val_accuracy: 0.9369\n",
      "Epoch 34/50\n",
      "117/117 [==============================] - 267s 2s/step - loss: 0.9857 - accuracy: 0.7403 - val_loss: 0.2211 - val_accuracy: 0.9308\n",
      "Epoch 35/50\n",
      "117/117 [==============================] - 266s 2s/step - loss: 1.0167 - accuracy: 0.7455 - val_loss: 0.2705 - val_accuracy: 0.9108\n",
      "Epoch 36/50\n",
      "117/117 [==============================] - 267s 2s/step - loss: 0.9733 - accuracy: 0.7584 - val_loss: 0.1611 - val_accuracy: 0.9538\n",
      "Epoch 37/50\n",
      "117/117 [==============================] - 267s 2s/step - loss: 0.9037 - accuracy: 0.7678 - val_loss: 0.2418 - val_accuracy: 0.9231\n",
      "Epoch 38/50\n",
      "117/117 [==============================] - 267s 2s/step - loss: 1.0840 - accuracy: 0.7326 - val_loss: 0.2477 - val_accuracy: 0.9185\n",
      "Epoch 39/50\n",
      "117/117 [==============================] - 267s 2s/step - loss: 0.9599 - accuracy: 0.7455 - val_loss: 0.1720 - val_accuracy: 0.9477\n",
      "Epoch 40/50\n",
      "117/117 [==============================] - 267s 2s/step - loss: 0.9898 - accuracy: 0.7506 - val_loss: 0.1876 - val_accuracy: 0.9354\n",
      "Epoch 41/50\n",
      "117/117 [==============================] - 267s 2s/step - loss: 0.9978 - accuracy: 0.7489 - val_loss: 0.1702 - val_accuracy: 0.9462\n",
      "Epoch 42/50\n",
      "117/117 [==============================] - 266s 2s/step - loss: 0.8964 - accuracy: 0.7498 - val_loss: 0.1970 - val_accuracy: 0.9369\n",
      "Epoch 43/50\n",
      "117/117 [==============================] - 274s 2s/step - loss: 0.9958 - accuracy: 0.7429 - val_loss: 0.1599 - val_accuracy: 0.9508\n",
      "Epoch 44/50\n",
      "117/117 [==============================] - 270s 2s/step - loss: 0.8765 - accuracy: 0.7567 - val_loss: 0.1525 - val_accuracy: 0.9508\n",
      "Epoch 45/50\n",
      "117/117 [==============================] - 269s 2s/step - loss: 0.9378 - accuracy: 0.7395 - val_loss: 0.1843 - val_accuracy: 0.9354\n",
      "Epoch 46/50\n",
      "117/117 [==============================] - 271s 2s/step - loss: 0.9016 - accuracy: 0.7661 - val_loss: 0.1409 - val_accuracy: 0.9462\n",
      "Epoch 47/50\n",
      "117/117 [==============================] - 267s 2s/step - loss: 0.8356 - accuracy: 0.7790 - val_loss: 0.2301 - val_accuracy: 0.9200\n",
      "Epoch 48/50\n",
      "117/117 [==============================] - 266s 2s/step - loss: 0.9185 - accuracy: 0.7558 - val_loss: 0.1780 - val_accuracy: 0.9308\n",
      "Epoch 49/50\n",
      "117/117 [==============================] - 271s 2s/step - loss: 0.9857 - accuracy: 0.7386 - val_loss: 0.1743 - val_accuracy: 0.9369\n",
      "Epoch 50/50\n",
      "117/117 [==============================] - 269s 2s/step - loss: 0.9137 - accuracy: 0.7592 - val_loss: 0.1527 - val_accuracy: 0.9523\n"
     ]
    }
   ],
   "source": [
    "early_stopping = EarlyStopping(monitor='val_loss', mode='min', patience=9)\n",
    "model.compile(loss='categorical_crossentropy',\n",
    "              optimizer=optimizers.Adam(learning_rate=0.001),\n",
    "              metrics=['accuracy'])\n",
    "history = model.fit(\n",
    "      train_generator,\n",
    "      steps_per_epoch= NUM_TRAIN //batch_size,\n",
    "      epochs=epochs,\n",
    "      validation_data=validation_generator,\n",
    "      validation_steps= NUM_TEST //batch_size,\n",
    "      verbose=1,\n",
    "      workers=4,\n",
    "      callbacks=[early_stopping])"
   ]
  },
  {
   "cell_type": "markdown",
   "id": "iw0gWNCADQBc",
   "metadata": {
    "id": "iw0gWNCADQBc"
   },
   "source": [
    "### Training and Validation Errors vs Epochs Plot"
   ]
  },
  {
   "cell_type": "code",
   "execution_count": 17,
   "id": "CcN09ohDDQBc",
   "metadata": {
    "colab": {
     "base_uri": "https://localhost:8080/",
     "height": 281
    },
    "id": "CcN09ohDDQBc",
    "outputId": "d5401291-6bb7-4204-bd37-bdaa5c6ac9b8"
   },
   "outputs": [
    {
     "data": {
      "image/png": "[encoded data removed]",
      "text/plain": [
       "<Figure size 640x480 with 1 Axes>"
      ]
     },
     "metadata": {},
     "output_type": "display_data"
    }
   ],
   "source": [
    "acc = history.history['accuracy']\n",
    "val_acc = history.history['val_accuracy']\n",
    "loss = history.history['loss']\n",
    "val_loss = history.history['val_loss']\n",
    "\n",
    "epochs_x = range(len(acc))\n",
    "\n",
    "plt.plot(epochs_x, loss, 'r', label='Training loss')\n",
    "plt.plot(epochs_x, val_loss, 'b', label='Validation loss')\n",
    "plt.title('Training and validation loss')\n",
    "plt.legend()\n",
    "\n",
    "plt.show()"
   ]
  },
  {
   "cell_type": "markdown",
   "id": "2rvlW8WBDQBc",
   "metadata": {
    "id": "2rvlW8WBDQBc"
   },
   "source": [
    "### Prediction"
   ]
  },
  {
   "cell_type": "code",
   "execution_count": 18,
   "id": "47X4cm6ODQBc",
   "metadata": {
    "colab": {
     "base_uri": "https://localhost:8080/",
     "height": 187
    },
    "id": "47X4cm6ODQBc",
    "outputId": "1569fcc4-b05c-481c-ad1f-d6aa28de2edc"
   },
   "outputs": [],
   "source": [
    "test_generator.batch_size = test_generator.samples\n",
    "y_true = np.argmax(next(test_generator)[1], axis=1)"
   ]
  },
  {
   "cell_type": "code",
   "execution_count": 19,
   "id": "Dyth265UDQBc",
   "metadata": {
    "id": "Dyth265UDQBc"
   },
   "outputs": [
    {
     "name": "stdout",
     "output_type": "stream",
     "text": [
      "1/1 [==============================] - 104s 104s/step\n"
     ]
    }
   ],
   "source": [
    "predictions = model.predict(test_generator)\n",
    "y_pred = np.argmax(predictions, axis=1)"
   ]
  },
  {
   "cell_type": "code",
   "execution_count": 20,
   "id": "HvH1kfqQDQBc",
   "metadata": {
    "id": "HvH1kfqQDQBc"
   },
   "outputs": [
    {
     "name": "stdout",
     "output_type": "stream",
     "text": [
      "Test Accuracy: 0.9310897435897436\n",
      "Precision: 0.9319119715227588\n",
      "Recall: 0.9320681135357368\n",
      "F1 score: 0.9305365320999499\n"
     ]
    }
   ],
   "source": [
    "print(\"Test Accuracy: {}\".format(accuracy_score(y_true, y_pred)))\n",
    "print(\"Precision: {}\".format(precision_score(y_true, y_pred, average=\"macro\")))\n",
    "print(\"Recall: {}\".format(recall_score(y_true, y_pred, average=\"macro\")))\n",
    "print(\"F1 score: {}\".format(f1_score(y_true, y_pred, average=\"macro\")))"
   ]
  }
 ],
 "metadata": {
  "kernelspec": {
   "display_name": "Python 3 (ipykernel)",
   "language": "python",
   "name": "python3"
  },
  "language_info": {
   "codemirror_mode": {
    "name": "ipython",
    "version": 3
   },
   "file_extension": ".py",
   "mimetype": "text/x-python",
   "name": "python",
   "nbconvert_exporter": "python",
   "pygments_lexer": "ipython3",
   "version": "3.9.13"
  }
 },
 "nbformat": 4,
 "nbformat_minor": 5
}
